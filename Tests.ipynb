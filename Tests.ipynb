{
 "cells": [
  {
   "cell_type": "code",
   "execution_count": 1,
   "metadata": {},
   "outputs": [],
   "source": [
    "%run Simulator.ipynb"
   ]
  },
  {
   "cell_type": "code",
   "execution_count": 2,
   "metadata": {},
   "outputs": [
    {
     "name": "stdout",
     "output_type": "stream",
     "text": [
      "Average quaility value must be between 0 and 40!\n",
      "Insert size must be at least two times read length!\n",
      "SNV error rate is probability value and must be between 0 and 1!\n",
      "Insetion error rate is probability value and must be between 0 and 1!\n"
     ]
    }
   ],
   "source": [
    "#checkArguments test\n",
    "\n",
    "#quality must be <= 40\n",
    "assert checkArguments(45,1,50,150,0,0,0) == False\n",
    "#insertSize must be at least two times larger than readLength\n",
    "assert checkArguments(30,1,50,90,0,0,0) == False\n",
    "#error rates must be between 0 and 1\n",
    "assert checkArguments(30,1,50,150,2,0,0) == False\n",
    "assert checkArguments(30,1,50,150,0,-1,0) == False\n",
    "#OK\n",
    "assert checkArguments(30,1,50,150,0,0,0) == True"
   ]
  },
  {
   "cell_type": "code",
   "execution_count": 3,
   "metadata": {},
   "outputs": [],
   "source": [
    "#parseGenomeFile test\n",
    "\n",
    "refGenome = parseGenomeFile('Test.fa')\n",
    "assert len(refGenome) == 3\n",
    "assert \"sequence1\" in refGenome\n",
    "assert len(refGenome[\"sequence1\"]) == 30\n",
    "assert \"sequence2\" in refGenome\n",
    "assert len(refGenome[\"sequence2\"]) == 24\n",
    "assert \"sequence3\" in refGenome\n",
    "assert len(refGenome[\"sequence3\"]) == 33"
   ]
  },
  {
   "cell_type": "code",
   "execution_count": 4,
   "metadata": {},
   "outputs": [],
   "source": [
    "#insertMutations test\n",
    "\n",
    "#check if total number of mutations is correct\n",
    "assert insertMutations(refGenome,0.2,0.1,0.1) ==  34"
   ]
  },
  {
   "cell_type": "code",
   "execution_count": 5,
   "metadata": {},
   "outputs": [],
   "source": [
    "#generateQuality test\n",
    "\n",
    "#check if any quality is below 0 or above 40\n",
    "def checkQuality(quality):\n",
    "    errors = 0\n",
    "    for q in quality:\n",
    "        if(ord(q) < 33 or ord(q) > 73):\n",
    "            errors += 1\n",
    "    return errors\n",
    "\n",
    "quality = generateQuality(38,150)\n",
    "assert len(quality) == 150\n",
    "assert checkQuality(quality) == 0"
   ]
  },
  {
   "cell_type": "code",
   "execution_count": 6,
   "metadata": {},
   "outputs": [],
   "source": [
    "#sequenceReads test\n",
    "\n",
    "#check if total number of paired reads is correct\n",
    "assert sequenceReads('Test.fa',refGenome,30,1,4,10) == 11"
   ]
  }
 ],
 "metadata": {
  "kernelspec": {
   "display_name": "Python 3",
   "language": "python",
   "name": "python3"
  },
  "language_info": {
   "codemirror_mode": {
    "name": "ipython",
    "version": 3
   },
   "file_extension": ".py",
   "mimetype": "text/x-python",
   "name": "python",
   "nbconvert_exporter": "python",
   "pygments_lexer": "ipython3",
   "version": "3.7.4"
  }
 },
 "nbformat": 4,
 "nbformat_minor": 4
}
